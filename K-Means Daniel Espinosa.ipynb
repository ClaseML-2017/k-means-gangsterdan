{
 "cells": [
  {
   "cell_type": "markdown",
   "metadata": {},
   "source": [
    "### Tarea K-Means\n",
    "#### Daniel Espinosa 136981\n",
    "\n",
    "Brief description: Segment a data set using k-means and train a classification model on each cluster. Compare performance with or without this pre-processing"
   ]
  },
  {
   "cell_type": "markdown",
   "metadata": {},
   "source": [
    "El set de datos con el que se trabaja en este trabajo consiste de varias variables numéricas que describen información médica de una persona y la variable target binaria **Outcome** que dice si la persona tiene diabetes o no.\n",
    "\n",
    "El objetivo del trabajo es comparar el desempeño de un modelo de clasificación sobre toda la información contra el desempeño de varios modelos del mismo tipo de clasificación entrenados con conjuntos de datos que han sido identificados como un cluster por el algoritmo K-means."
   ]
  },
  {
   "cell_type": "code",
   "execution_count": 1,
   "metadata": {
    "collapsed": true
   },
   "outputs": [],
   "source": [
    "import pandas as pd\n",
    "import numpy as np\n",
    "import matplotlib.pyplot as plt\n",
    "from sklearn.cluster import KMeans\n",
    "\n",
    "from sklearn.model_selection import train_test_split\n",
    "from sklearn.tree import DecisionTreeClassifier\n",
    "\n",
    "from sklearn.metrics import confusion_matrix\n",
    "from sklearn.preprocessing import StandardScaler"
   ]
  },
  {
   "cell_type": "code",
   "execution_count": 2,
   "metadata": {},
   "outputs": [
    {
     "data": {
      "text/html": [
       "<div>\n",
       "<style>\n",
       "    .dataframe thead tr:only-child th {\n",
       "        text-align: right;\n",
       "    }\n",
       "\n",
       "    .dataframe thead th {\n",
       "        text-align: left;\n",
       "    }\n",
       "\n",
       "    .dataframe tbody tr th {\n",
       "        vertical-align: top;\n",
       "    }\n",
       "</style>\n",
       "<table border=\"1\" class=\"dataframe\">\n",
       "  <thead>\n",
       "    <tr style=\"text-align: right;\">\n",
       "      <th></th>\n",
       "      <th>Pregnancies</th>\n",
       "      <th>Glucose</th>\n",
       "      <th>BloodPressure</th>\n",
       "      <th>SkinThickness</th>\n",
       "      <th>Insulin</th>\n",
       "      <th>BMI</th>\n",
       "      <th>DiabetesPedigreeFunction</th>\n",
       "      <th>Age</th>\n",
       "      <th>Outcome</th>\n",
       "    </tr>\n",
       "  </thead>\n",
       "  <tbody>\n",
       "    <tr>\n",
       "      <th>count</th>\n",
       "      <td>768.000000</td>\n",
       "      <td>768.000000</td>\n",
       "      <td>768.000000</td>\n",
       "      <td>768.000000</td>\n",
       "      <td>768.000000</td>\n",
       "      <td>768.000000</td>\n",
       "      <td>768.000000</td>\n",
       "      <td>768.000000</td>\n",
       "      <td>768.000000</td>\n",
       "    </tr>\n",
       "    <tr>\n",
       "      <th>mean</th>\n",
       "      <td>3.845052</td>\n",
       "      <td>120.894531</td>\n",
       "      <td>69.105469</td>\n",
       "      <td>20.536458</td>\n",
       "      <td>79.799479</td>\n",
       "      <td>31.992578</td>\n",
       "      <td>0.471876</td>\n",
       "      <td>33.240885</td>\n",
       "      <td>0.348958</td>\n",
       "    </tr>\n",
       "    <tr>\n",
       "      <th>std</th>\n",
       "      <td>3.369578</td>\n",
       "      <td>31.972618</td>\n",
       "      <td>19.355807</td>\n",
       "      <td>15.952218</td>\n",
       "      <td>115.244002</td>\n",
       "      <td>7.884160</td>\n",
       "      <td>0.331329</td>\n",
       "      <td>11.760232</td>\n",
       "      <td>0.476951</td>\n",
       "    </tr>\n",
       "    <tr>\n",
       "      <th>min</th>\n",
       "      <td>0.000000</td>\n",
       "      <td>0.000000</td>\n",
       "      <td>0.000000</td>\n",
       "      <td>0.000000</td>\n",
       "      <td>0.000000</td>\n",
       "      <td>0.000000</td>\n",
       "      <td>0.078000</td>\n",
       "      <td>21.000000</td>\n",
       "      <td>0.000000</td>\n",
       "    </tr>\n",
       "    <tr>\n",
       "      <th>25%</th>\n",
       "      <td>1.000000</td>\n",
       "      <td>99.000000</td>\n",
       "      <td>62.000000</td>\n",
       "      <td>0.000000</td>\n",
       "      <td>0.000000</td>\n",
       "      <td>27.300000</td>\n",
       "      <td>0.243750</td>\n",
       "      <td>24.000000</td>\n",
       "      <td>0.000000</td>\n",
       "    </tr>\n",
       "    <tr>\n",
       "      <th>50%</th>\n",
       "      <td>3.000000</td>\n",
       "      <td>117.000000</td>\n",
       "      <td>72.000000</td>\n",
       "      <td>23.000000</td>\n",
       "      <td>30.500000</td>\n",
       "      <td>32.000000</td>\n",
       "      <td>0.372500</td>\n",
       "      <td>29.000000</td>\n",
       "      <td>0.000000</td>\n",
       "    </tr>\n",
       "    <tr>\n",
       "      <th>75%</th>\n",
       "      <td>6.000000</td>\n",
       "      <td>140.250000</td>\n",
       "      <td>80.000000</td>\n",
       "      <td>32.000000</td>\n",
       "      <td>127.250000</td>\n",
       "      <td>36.600000</td>\n",
       "      <td>0.626250</td>\n",
       "      <td>41.000000</td>\n",
       "      <td>1.000000</td>\n",
       "    </tr>\n",
       "    <tr>\n",
       "      <th>max</th>\n",
       "      <td>17.000000</td>\n",
       "      <td>199.000000</td>\n",
       "      <td>122.000000</td>\n",
       "      <td>99.000000</td>\n",
       "      <td>846.000000</td>\n",
       "      <td>67.100000</td>\n",
       "      <td>2.420000</td>\n",
       "      <td>81.000000</td>\n",
       "      <td>1.000000</td>\n",
       "    </tr>\n",
       "  </tbody>\n",
       "</table>\n",
       "</div>"
      ],
      "text/plain": [
       "       Pregnancies     Glucose  BloodPressure  SkinThickness     Insulin  \\\n",
       "count   768.000000  768.000000     768.000000     768.000000  768.000000   \n",
       "mean      3.845052  120.894531      69.105469      20.536458   79.799479   \n",
       "std       3.369578   31.972618      19.355807      15.952218  115.244002   \n",
       "min       0.000000    0.000000       0.000000       0.000000    0.000000   \n",
       "25%       1.000000   99.000000      62.000000       0.000000    0.000000   \n",
       "50%       3.000000  117.000000      72.000000      23.000000   30.500000   \n",
       "75%       6.000000  140.250000      80.000000      32.000000  127.250000   \n",
       "max      17.000000  199.000000     122.000000      99.000000  846.000000   \n",
       "\n",
       "              BMI  DiabetesPedigreeFunction         Age     Outcome  \n",
       "count  768.000000                768.000000  768.000000  768.000000  \n",
       "mean    31.992578                  0.471876   33.240885    0.348958  \n",
       "std      7.884160                  0.331329   11.760232    0.476951  \n",
       "min      0.000000                  0.078000   21.000000    0.000000  \n",
       "25%     27.300000                  0.243750   24.000000    0.000000  \n",
       "50%     32.000000                  0.372500   29.000000    0.000000  \n",
       "75%     36.600000                  0.626250   41.000000    1.000000  \n",
       "max     67.100000                  2.420000   81.000000    1.000000  "
      ]
     },
     "execution_count": 2,
     "metadata": {},
     "output_type": "execute_result"
    }
   ],
   "source": [
    "df = pd.read_csv(\"diabetes.csv\",header=0, na_values = \"?\")\n",
    "df.describe()"
   ]
  },
  {
   "cell_type": "code",
   "execution_count": 3,
   "metadata": {},
   "outputs": [
    {
     "name": "stderr",
     "output_type": "stream",
     "text": [
      "/Users/danielespinosa/gitsome/claseMachineLearning/lib/python2.7/site-packages/sklearn/model_selection/_split.py:2010: FutureWarning: From version 0.21, test_size will always complement train_size unless both are specified.\n",
      "  FutureWarning)\n"
     ]
    }
   ],
   "source": [
    "np.random.seed(923)\n",
    "\n",
    "X_train, X_test, Y_train, Y_test = train_test_split(df[df.columns[0:-1]],df[df.columns[-1]], train_size=0.75)\n",
    "\n",
    "#Hacer la vida más fácil usando matrices de numpy\n",
    "\n",
    "X_trainM = X_train.as_matrix()\n",
    "Y_trainM = Y_train.as_matrix()\n",
    "\n",
    "X_testM = X_test.as_matrix()\n",
    "Y_testM = Y_test.as_matrix()"
   ]
  },
  {
   "cell_type": "markdown",
   "metadata": {},
   "source": [
    "Para hacer el modelo más simple, se utilizarán solamente las variables **Glucose**, **Insulin** y **BMI** para la predicción sin K-Means y para la agrupación por K-Means."
   ]
  },
  {
   "cell_type": "code",
   "execution_count": 4,
   "metadata": {
    "collapsed": true
   },
   "outputs": [],
   "source": [
    "#seleccion de variables\n",
    "\n",
    "glucose = X_trainM[:,1]\n",
    "insulin = X_trainM[:,4]\n",
    "bmi = X_trainM[:,5]\n",
    "\n",
    "selected_train = np.column_stack((glucose,insulin,bmi))\n",
    "\n",
    "glucose_t = X_testM[:,1]\n",
    "insulin_t = X_testM[:,4]\n",
    "bmi_t = X_testM[:,5]\n",
    "\n",
    "selected_test = np.column_stack((glucose_t,insulin_t,bmi_t))\n",
    "\n",
    "#Estandarizacion de los datos respecto a la media y desviacion estandar del\n",
    "#set de entrenamiento\n",
    "\n",
    "scaler = StandardScaler()\n",
    "\n",
    "selected_train_scaled = scaler.fit_transform(selected_train)\n",
    "\n",
    "selected_test_scaled = scaler.transform(selected_test)\n"
   ]
  },
  {
   "cell_type": "markdown",
   "metadata": {},
   "source": [
    "### Desempeño del modelo de clasificación simple"
   ]
  },
  {
   "cell_type": "code",
   "execution_count": 5,
   "metadata": {},
   "outputs": [
    {
     "data": {
      "text/plain": [
       "array([[97, 27],\n",
       "       [28, 40]])"
      ]
     },
     "execution_count": 5,
     "metadata": {},
     "output_type": "execute_result"
    }
   ],
   "source": [
    "clf = DecisionTreeClassifier()\n",
    "clf = clf.fit(selected_train_scaled, Y_trainM)\n",
    "Y_test_prediction = clf.predict(selected_test_scaled)\n",
    "cm = confusion_matrix(Y_testM, Y_test_prediction)\n",
    "tn, fp, fn, tp = confusion_matrix(Y_testM, Y_test_prediction).ravel()\n",
    "cm"
   ]
  },
  {
   "cell_type": "code",
   "execution_count": 6,
   "metadata": {},
   "outputs": [
    {
     "name": "stdout",
     "output_type": "stream",
     "text": [
      "Accuracy: 0.713541666667\n",
      "Precision: 0.597014925373\n",
      "Recall: 0.588235294118\n",
      "F1 score: 0.592592592593\n"
     ]
    }
   ],
   "source": [
    "#Accuracy (num buenos/total)\n",
    "accuracy = float(tp+tn) / float(tp + tn + fp + fn)\n",
    "print(\"Accuracy: \" + str(accuracy))\n",
    "#Precision\n",
    "\n",
    "precision = float(tp)/float(tp + fp)\n",
    "print(\"Precision: \" + str(precision))\n",
    "#Recall\n",
    "\n",
    "recall = float(tp)/float(tp + fn)\n",
    "print(\"Recall: \" + str(recall))\n",
    "\n",
    "#F1\n",
    "\n",
    "f1 = f1 = (2*(precision*recall))/(precision+recall)\n",
    "print(\"F1 score: \" + str(f1))"
   ]
  },
  {
   "cell_type": "markdown",
   "metadata": {},
   "source": [
    "Se puede ver que el modelo base no tiene un desempeño muy bueno aunque definitivamente es mucho mejor que adivinar."
   ]
  },
  {
   "cell_type": "markdown",
   "metadata": {},
   "source": [
    "### Modelo K-Means + Árboles de decisión para cada cluster\n",
    "\n",
    "En esta sección se realizan los siguientes pasos:\n",
    "\n",
    "+ Escoger el parámetro K para K-Means con el método del codo.\n",
    "+ Correr K-Means sobre el set de entrenamiento y etiquetar las observaciones con el grupo al que resultaron pertenecer.\n",
    "+ Entrenar un árbol de decisión para cada cluster.\n",
    "+ 'Predecir' el cluster de cada observación del set de pruebas y etiquetarla usando el modelo K-Means (etiqueta del centroide más cercano) ya calculado.\n",
    "+ Predecir la variable target con el modelo entrenado para el cluster al que parece pertenecer la observación."
   ]
  },
  {
   "cell_type": "code",
   "execution_count": 7,
   "metadata": {},
   "outputs": [],
   "source": [
    "inertias = []\n",
    "xs = range(2,13)\n",
    "for i in xs:\n",
    "    kmeans_model = KMeans(n_clusters=i)\n",
    "    kmeans_model.fit(selected_train_scaled)\n",
    "    inertias.append(kmeans_model.inertia_)"
   ]
  },
  {
   "cell_type": "code",
   "execution_count": 8,
   "metadata": {},
   "outputs": [
    {
     "data": {
      "image/png": "[encoded data removed]",
      "text/plain": [
       "<matplotlib.figure.Figure at 0x114a5a8d0>"
      ]
     },
     "metadata": {},
     "output_type": "display_data"
    }
   ],
   "source": [
    "plt.plot(xs,inertias, '-o')\n",
    "plt.show()"
   ]
  },
  {
   "cell_type": "markdown",
   "metadata": {},
   "source": [
    "Utilizando el método del codo se selecciona **K = 6** pues parece un valor razonable después del cual la cohesión de los clusters deja de disminuir rápidamente. Es importante no escoger valores de K demasiado altos pues es fácil caer en *overfitting* al forzar la creación de demasiados clusters."
   ]
  },
  {
   "cell_type": "code",
   "execution_count": 9,
   "metadata": {},
   "outputs": [],
   "source": [
    "#Entrenar el modelo de k-means con K = 6\n",
    "\n",
    "kmeans_model = KMeans(n_clusters=6)\n",
    "train_cluster_labels = kmeans_model.fit_predict(selected_train_scaled)\n",
    "\n",
    "#agregar las labels a entrenamiento\n",
    "selected_train_scaled = np.column_stack((selected_train_scaled,train_cluster_labels))\n",
    "\n",
    "#predecir las labels para pruebas\n",
    "test_cluster_labels = kmeans_model.predict(selected_test_scaled)\n",
    "selected_test_scaled = np.column_stack((selected_test_scaled,test_cluster_labels))\n"
   ]
  },
  {
   "cell_type": "markdown",
   "metadata": {},
   "source": [
    "Entrenar los 6 modelos diferentes con los datos de entrenamiento agrupados."
   ]
  },
  {
   "cell_type": "code",
   "execution_count": 10,
   "metadata": {},
   "outputs": [],
   "source": [
    "#asociar Y_train con el X de entrenamiento\n",
    "\n",
    "selected_train_scaled = np.column_stack((selected_train_scaled,Y_trainM))\n",
    "\n",
    "#crear los clasificadores y entrenarlos\n",
    "classifiers = []\n",
    "for i in range(6):\n",
    "    c = DecisionTreeClassifier()\n",
    "    classifiers.append(c)\n",
    "    current_cluster = np.array([x for x in selected_train_scaled if x[-2] == i])\n",
    "    classifiers[i].fit(current_cluster[:,:-2], current_cluster[:,-1])"
   ]
  },
  {
   "cell_type": "markdown",
   "metadata": {},
   "source": [
    "Predecir el **Outcome** para cada observación del set de pruebas con el árbol de decisión entrenado con el cluster al que más se parece la observación."
   ]
  },
  {
   "cell_type": "code",
   "execution_count": 11,
   "metadata": {},
   "outputs": [],
   "source": [
    "#Recorrer las observaciones del set de pruebas y clasificar con el modelo del cluster en el que caiga\n",
    "Y_test_predictions = []\n",
    "\n",
    "for x in selected_test_scaled:\n",
    "    cluster_num = int(x[-1])\n",
    "    sample = x[:-1].reshape(1, -1)\n",
    "    Y_test_predictions.append(classifiers[cluster_num].predict(sample))\n",
    "    \n",
    "Y_test_predictions = np.array(Y_test_predictions)\n",
    "    "
   ]
  },
  {
   "cell_type": "markdown",
   "metadata": {},
   "source": [
    "### Desempeño del modelo compuesto"
   ]
  },
  {
   "cell_type": "code",
   "execution_count": 12,
   "metadata": {},
   "outputs": [
    {
     "data": {
      "text/plain": [
       "array([[98, 26],\n",
       "       [26, 42]])"
      ]
     },
     "execution_count": 12,
     "metadata": {},
     "output_type": "execute_result"
    }
   ],
   "source": [
    "cm = confusion_matrix(Y_testM, Y_test_predictions)\n",
    "tn, fp, fn, tp = confusion_matrix(Y_testM, Y_test_predictions).ravel()\n",
    "\n",
    "cm"
   ]
  },
  {
   "cell_type": "code",
   "execution_count": 13,
   "metadata": {},
   "outputs": [
    {
     "name": "stdout",
     "output_type": "stream",
     "text": [
      "Accuracy: 0.729166666667\n",
      "Precision: 0.617647058824\n",
      "Recall: 0.617647058824\n",
      "F1 score: 0.617647058824\n"
     ]
    }
   ],
   "source": [
    "#Accuracy (num buenos/total)\n",
    "accuracy = float(tp+tn) / float(tp + tn + fp + fn)\n",
    "print(\"Accuracy: \" + str(accuracy))\n",
    "#Precision\n",
    "\n",
    "precision = float(tp)/float(tp + fp)\n",
    "print(\"Precision: \" + str(precision))\n",
    "#Recall\n",
    "\n",
    "recall = float(tp)/float(tp + fn)\n",
    "print(\"Recall: \" + str(recall))\n",
    "\n",
    "#F1\n",
    "\n",
    "f1 = (2*(precision*recall))/(precision+recall)\n",
    "print(\"F1 score: \" + str(f1))"
   ]
  },
  {
   "cell_type": "markdown",
   "metadata": {},
   "source": [
    "### Comparación del desempeño de los modelos\n",
    "\n",
    "|Métrica|**Modelo Base**|**Modelo compuesto**|\n",
    "|---|---|---|\n",
    "|**Accuracy**|0.713541666667|0.729166666667|\n",
    "|**Precision**|0.597014925373|0.617647058824|\n",
    "|**Recall**|0.588235294118|0.617647058824|\n",
    "|**F1 Score**|0.592592592593|0.617647058824|"
   ]
  },
  {
   "cell_type": "markdown",
   "metadata": {},
   "source": [
    "### Conclusiones\n",
    "\n",
    "Para esta ejecución en particular, el modelo compuesto obtuvo mejores métricas de desempeño que el modelo simple.\n",
    "\n",
    "La razón por la cual generalmente se obtienen mejores resultados al aplicar modelos de clasificación después de aplicar un algoritmo de agrupación es porque se segmenta a la población en grupos y así cada modelo de clasificación puede aprender los patrones específicos en cada cluster. El modelo compuesto resultante es más robusto pues ha pasado por más etapas de abstracción.\n",
    "\n",
    "En general el dataset utilizado en este trabajo es uno difícil de predecir, además no tiene muchas observaciones por lo que los modelos de clasificación no tienen tantos ejemplos para aprender y cuando se segmenta a la población en clusters, cada modelo de clasificación tiene aún menos ejemplos para aprender, es probable que con un dataset más grande se puedan observar diferencias más significativas a favor del modelo híbrido.\n",
    "\n",
    "Este trabajo demuestra como diferentes técnicas de aprendizaje de máquina, como aprendizaje supervisado y no supervisado se pueden combinar para resultar en un modelo más robusto."
   ]
  }
 ],
 "metadata": {
  "kernelspec": {
   "display_name": "ML",
   "language": "python",
   "name": "clasemachinelearning"
  },
  "language_info": {
   "codemirror_mode": {
    "name": "ipython",
    "version": 2
   },
   "file_extension": ".py",
   "mimetype": "text/x-python",
   "name": "python",
   "nbconvert_exporter": "python",
   "pygments_lexer": "ipython2",
   "version": "2.7.13"
  }
 },
 "nbformat": 4,
 "nbformat_minor": 1
}
